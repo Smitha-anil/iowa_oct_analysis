{
 "cells": [
  {
   "cell_type": "code",
   "execution_count": 1,
   "metadata": {
    "collapsed": true
   },
   "outputs": [],
   "source": [
    "import numpy as np\n",
    "\n",
    "from mpl_toolkits.mplot3d import Axes3D\n",
    "\n",
    "import matplotlib as mpl\n",
    "import matplotlib.pyplot as plt\n",
    "import App.OctLayers as oct\n",
    "import os\n",
    "import pdb\n",
    "\n",
    "%matplotlib inline\n",
    "mpl.rcParams['figure.figsize'] = (10.0, 8.0)"
   ]
  },
  {
   "cell_type": "code",
   "execution_count": 2,
   "metadata": {
    "collapsed": false
   },
   "outputs": [],
   "source": [
    "filepath = 'Data/Sample/Cirrus/Sample1/Macular Cube 512x128_01-01-2001_01-01-01_OS_sn41343_cube_z'\n",
    "img_file = filepath + '.img'\n",
    "surfaces_file = os.path.join(filepath,'Macular Cube 512x128_01-01-2001_01-01-01_OS_sn41343_cube_z_Surfaces_Iowa.xml')\n",
    "center_file = os.path.join(filepath,'Macular Cube 512x128_01-01-2001_01-01-01_OS_sn41343_cube_z_GridCenter_Iowa.xml')\n",
    "\n",
    "data_oct = oct.OctLayers(filename = surfaces_file,\n",
    "                         center_filename = center_file,\n",
    "                         raw_filename = img_file)"
   ]
  },
  {
   "cell_type": "code",
   "execution_count": null,
   "metadata": {
    "collapsed": true
   },
   "outputs": [],
   "source": [
    "def find_thickness(surface2, start_pixel, vector, step=0.1):\n",
    "    #assert vector[2] > 0, \"Vector in the wrong direction\"\n",
    "    found = False\n",
    "    t = 0\n",
    "    \n",
    "    while not found:\n",
    "        t = t + step\n",
    "        scaled_vec = t * vector\n",
    "        new_pix = scaled_vec + start_pixel\n",
    "        \n",
    "        low_x = np.floor(new_pix[0])\n",
    "        high_x = np.ceil(new_pix[0])\n",
    "        low_y = np.floor(new_pix[1])\n",
    "        high_y = np.ceil(new_pix[1])\n",
    "        #import pdb; pdb.set_trace()\n",
    "        \n",
    "        # First check the new x,y coordinates are valid. If not return np.nan\n",
    "        if new_pix[0] > surface2.shape[1] - 1  or new_pix[1] > surface2.shape[0] - 1 \\\n",
    "           or new_pix[0] < 0 or new_pix[1] < 0:\n",
    "            return np.nan\n",
    "        \n",
    "        # Check if both vector components are 0\n",
    "        if np.isclose(scaled_vec[0], 0) and np.isclose(scaled_vec[1], 0):\n",
    "            # no interpolation required\n",
    "            new_val = surface2[new_pix[1], new_pix[0]]\n",
    "            \n",
    "        # now check if the new pixels fall exactly on a real pixel (ie. new_pix is an integer)\n",
    "        if not (np.isclose(new_pix[0], int(new_pix[0])) or np.isclose(new_pix[1], int(new_pix[1]))):\n",
    "            # bilinear interpolation\n",
    "            points = [(low_x,low_y,surface2[low_y,low_x]),\n",
    "                      (low_x,high_y,surface2[low_y,high_x]),\n",
    "                      (high_x,low_y,surface2[high_y,low_x]),\n",
    "                      (high_x,high_y,surface2[high_y,high_x])]\n",
    "            new_val = bilinear_interpolation(new_pix[0], new_pix[1], points)\n",
    "            \n",
    "        elif np.isclose(new_pix[0], int(new_pix[0])):\n",
    "            # only x pixel exists, linear interp on y\n",
    "            new_val = np.interp(new_pix[1], [low_y,high_y],[surface2[low_y,new_pix[0]],\n",
    "                                                            surface2[high_y,new_pix[0]]])\n",
    "        elif np.isclose(new_pix[1], int(new_pix[1])):\n",
    "            # only y vector component is 0, linear interp on x\n",
    "            new_val = np.interp(new_pix[0], [low_x,high_x],[surface2[new_pix[1],low_x],\n",
    "                                                            surface2[new_pix[1],high_x]])\n",
    "        else:\n",
    "            # no interpolation required\n",
    "            new_val = surface2[start_pixel[1], start_pixel[0]]\n",
    "                        \n",
    "            \n",
    "        if new_pix[2] >= new_val:\n",
    "            vec_length = np.linalg.norm(t * vector)\n",
    "            return t\n",
    "        \n",
    "def bilinear_interpolation(x, y, points):\n",
    "    '''Interpolate (x,y) from values associated with four points.\n",
    "\n",
    "    The four points are a list of four triplets:  (x, y, value).\n",
    "    The four points can be in any order.  They should form a rectangle.\n",
    "\n",
    "        >>> bilinear_interpolation(12, 5.5,\n",
    "        ...                        [(10, 4, 100),\n",
    "        ...                         (20, 4, 200),\n",
    "        ...                         (10, 6, 150),\n",
    "        ...                         (20, 6, 300)])\n",
    "        165.0\n",
    "\n",
    "    '''\n",
    "    # See formula at:  http://en.wikipedia.org/wiki/Bilinear_interpolation\n",
    "\n",
    "    points = sorted(points)               # order points by x, then by y\n",
    "    (x1, y1, q11), (_x1, y2, q12), (x2, _y1, q21), (_x2, _y2, q22) = points\n",
    "\n",
    "    if x1 != _x1 or x2 != _x2 or y1 != _y1 or y2 != _y2:\n",
    "        pdb.pm()\n",
    "        raise ValueError('points do not form a rectangle')\n",
    "        \n",
    "    if not x1 <= x <= x2 or not y1 <= y <= y2:\n",
    "        raise ValueError('(x, y) not within the rectangle')\n",
    "\n",
    "    return (q11 * (x2 - x) * (y2 - y) +\n",
    "            q21 * (x - x1) * (y2 - y) +\n",
    "            q12 * (x2 - x) * (y - y1) +\n",
    "            q22 * (x - x1) * (y - y1)\n",
    "           ) / ((x2 - x1) * (y2 - y1) + 0.0)\n",
    "\n"
   ]
  },
  {
   "cell_type": "code",
   "execution_count": null,
   "metadata": {
    "collapsed": false
   },
   "outputs": [],
   "source": [
    "data_oct.data.data.shape"
   ]
  },
  {
   "cell_type": "code",
   "execution_count": null,
   "metadata": {
    "collapsed": true
   },
   "outputs": [],
   "source": [
    "my_surface = data_oct.data.data[0,:,:]\n",
    "my_surface2 = data_oct.data.data[10,:,:]"
   ]
  },
  {
   "cell_type": "code",
   "execution_count": null,
   "metadata": {
    "collapsed": false
   },
   "outputs": [],
   "source": [
    "# sample surface\n",
    "#my_surface = np.array(np.arange(30), dtype=np.float).reshape(5,6)\n",
    "#my_surface = np.random.random((5,6))\n",
    "#my_surface = np.random.random((1024,1000))\n",
    "#my_surface2 = my_surface + np.random.random(my_surface.shape)*10\n",
    "\n",
    "calc_size = 10\n",
    "\n",
    "\n",
    "# start and end points for each vector across a point\n",
    "points = np.zeros((4,2),\n",
    "                  dtype=[('x', 'i4'),('y', 'i4'),('z','f8')])\n",
    "points[:,0]['x'] = [-10, 0, 10, 10]\n",
    "points[:,0]['y'] = [10, 10, 10, 0]\n",
    "points[:,1]['x'] = [10, 0, -10, -10]\n",
    "points[:,1]['y'] = [-10, -10, -10, 0] \n",
    "\n",
    "\n",
    "\n",
    "# points[:,0][0:2] = [(-1,1),(0,1),(1,1),(1,0)]\n",
    "# points[:,1][0:2] = [(1,-1),(0,-1),(-1,-1),(-1,0)]\n",
    "\n",
    "# not going to calulate vectors for pixels on the edges of the surface\n",
    "valid_size = (my_surface.shape[0]-(calc_size * 2)) * (my_surface.shape[1]-(calc_size * 2))\n",
    "\n",
    "# the points array for each valid pixel\n",
    "points = np.repeat(np.expand_dims(points,2),valid_size,2)\n",
    "\n",
    "coords_x = range(calc_size,my_surface.shape[1]-calc_size)\n",
    "coords_y = range(calc_size,my_surface.shape[0]-calc_size)\n",
    "\n",
    "xv, yv = np.meshgrid(coords_x,coords_y, indexing='ij')\n",
    "\n",
    "points[:,0,:]['x'] = points[:,0,:]['x'] + xv.flatten()\n",
    "points[:,1,:]['x'] = points[:,1,:]['x'] + xv.flatten()\n",
    "points[:,0,:]['y'] = points[:,0,:]['y'] + yv.flatten()\n",
    "points[:,1,:]['y'] = points[:,1,:]['y'] + yv.flatten()\n",
    "\n",
    "\n",
    "# points is now a 3d array [a, b, c]\n",
    "# each datapoint is a coordinate (x,y,z)\n",
    "# a = 4 - The number of vectors crossing each pixel\n",
    "# b = 2 - Point coordinates of the end of each vector (0=start, 1=end)\n",
    "# c = N number of valid pixels in the surface\n",
    "\n",
    "# extract the z coordinates\n",
    "x = points['x']\n",
    "y = points['y']\n",
    "points['z'] = my_surface[y,x]\n",
    "#import pdb; pdb.set_trace()\n",
    "# Calculate the vectors\n",
    "vectors = np.empty((4,points.shape[2]),\n",
    "                   dtype=[('x','f8'),('y','f8'),('z','f8')])\n",
    "vectors['x'] = points[:,1,:]['x'] - points[:,0,:]['x']\n",
    "vectors['y'] = points[:,1,:]['y'] - points[:,0,:]['y']\n",
    "vectors['z'] = points[:,1,:]['z'] - points[:,0,:]['z']\n",
    "\n",
    "# Generate the vector pairs\n",
    "pairs = np.array([(0,1),(0,2),(0,3),(1,2),(1,3),(2,3)], dtype=np.int)\n",
    "\n",
    "normal_vector = np.empty(valid_size, dtype=(np.float,3))\n",
    "vector_pairs = np.empty((6,2), dtype=(np.float,3))\n",
    "normal_vectors = np.empty(my_surface.shape, dtype=(np.float,3))\n",
    "normal_vectors[:] = np.nan\n",
    "thicknesses = np.empty(my_surface.shape)\n",
    "thicknesses[:] = np.nan\n",
    "\n",
    "#voxel_sizes = [v for i,v in data_oct.voxel_size.items()]\n",
    "voxel_sizes = [data_oct.voxel_size['x'], data_oct.voxel_size['y'], data_oct.voxel_size['z']]"
   ]
  },
  {
   "cell_type": "code",
   "execution_count": null,
   "metadata": {
    "collapsed": false,
    "scrolled": true
   },
   "outputs": [],
   "source": [
    "old_pcomp = 0.0\n",
    "for i in range(valid_size):\n",
    "    pcomp = (float(i) / valid_size)*100\n",
    "    if int(pcomp) > old_pcomp:\n",
    "        old_pcomp = pcomp\n",
    "        print('percent: {}'.format(int(pcomp)))\n",
    "    # need to convert from structured arrays (np.void) to ndarray\n",
    "    vector_pairs[:, 0, :] = np.matrix([vectors[pairs[:,0], i]['x'],\n",
    "                                       vectors[pairs[:,0], i]['y'],\n",
    "                                       vectors[pairs[:,0], i]['z']]).transpose()\n",
    "    vector_pairs[:, 1, :] = np.matrix([vectors[pairs[:,1], i]['x'],\n",
    "                                       vectors[pairs[:,1], i]['y'],\n",
    "                                       vectors[pairs[:,1], i]['z']]).transpose()\n",
    "    \n",
    "    # convert the vector pairs from coordinates to microns\n",
    "    #import pdb; pdb.set_trace()\n",
    "    #vector_pairs[:, 0, :] = vector_pairs[:, 0, :] * voxel_sizes\n",
    "    #vector_pairs[:, 1, :] = vector_pairs[:, 1, :] * voxel_sizes\n",
    "    \n",
    "    # calculate a normal vector for each vector pair\n",
    "    potential_vectors = np.cross(vector_pairs[:, 0],\n",
    "                              vector_pairs[:, 1])\n",
    "    \n",
    "    #import pdb; pdb.set_trace()\n",
    "    # average the 6 normal vectors to find the mean value for the pixel\n",
    "    normal_vector = potential_vectors.mean(axis=0) \n",
    "    \n",
    "    # Normalise the vector to unit length\n",
    "    normal_vector = normal_vector / np.linalg.norm(normal_vector)\n",
    "    \n",
    "    # Convert the vectors back into pixel coordinates\n",
    "    #normal_vector = normal_vector / voxel_sizes\n",
    "    \n",
    "    # The normal vector could be in either direction\n",
    "    # TODO: need to add a check for direction\n",
    "    if normal_vector[2] < 0:\n",
    "        normal_vector = 0 - normal_vector\n",
    "        \n",
    "    # create an array to hold the output thickness values\n",
    "    #thicknesses = np.empty((my_surface.shape[0]-2,my_surface.shape[1]-2),\n",
    "                           #dtype=(np.float,3))\n",
    "\n",
    "    # note output from unravel is [y,x]\n",
    "    start_pixel = np.unravel_index(i, (my_surface.shape[0]-(2 * calc_size),my_surface.shape[1]-(2 * calc_size)))\n",
    "    \n",
    "    # append the origin z coordinate to the start pixel\n",
    "    surface_pixel = [val + calc_size for val in start_pixel]\n",
    "    surface_pixel = surface_pixel[::-1]\n",
    "    surface_pixel.append(my_surface[surface_pixel[1], surface_pixel[0]])\n",
    "    \n",
    "    # Store the normal vector incase I want it later\n",
    "    normal_vectors[surface_pixel[1], surface_pixel[0]] = normal_vector\n",
    "    #import pdb;pdb.set_trace()\n",
    "    thicknesses[surface_pixel[1], surface_pixel[0]] = find_thickness(my_surface2, surface_pixel, normal_vector)"
   ]
  },
  {
   "cell_type": "code",
   "execution_count": null,
   "metadata": {
    "collapsed": false
   },
   "outputs": [],
   "source": [
    "normal_vectors[18:27,25]\n"
   ]
  },
  {
   "cell_type": "code",
   "execution_count": null,
   "metadata": {
    "collapsed": false
   },
   "outputs": [],
   "source": [
    "fig = plt.figure()\n",
    "ax = fig.gca(projection='3d')\n",
    "X, Y = np.meshgrid(np.arange(my_surface.shape[1]),\n",
    "                   np.arange(my_surface.shape[0]))\n",
    "Z = my_surface\n",
    "\n",
    "surf = ax.plot_surface(X, Y, Z, rstride=1, cstride=1, cmap = mpl.cm.coolwarm,\n",
    "                       linewidth=0, antialiased=False)\n",
    "\n",
    "ax.set_zlim(my_surface.min(), my_surface2.max())\n",
    "\n",
    "for i in range(my_surface.size):\n",
    "    y,x = np.unravel_index(i, my_surface.shape)\n",
    "    X=[x,x]\n",
    "    Y=[y,y]\n",
    "    Z = [my_surface[y,x], my_surface2[y,x]]\n",
    "    ax.plot(X,Y,Z, '--k')\n",
    "\n",
    "for i in range(len(normal_vectors)):\n",
    "    y,x = np.unravel_index(i, (my_surface.shape[0]-(2 * calc_size), my_surface.shape[1]-(2* calc_size)))\n",
    "    y = y + calc_size\n",
    "    x = x + calc_size\n",
    "    v = normal_vectors[y,x]\n",
    "    t = thicknesses[y, x]\n",
    "    v = (v * t) + [x,y,my_surface[y,x]]\n",
    "    X = [x, v[0]]\n",
    "    Y = [y, v[1]]\n",
    "    Z = [my_surface[y,x], v[2]]\n",
    "    ax.plot(X,Y,Z, 'r')\n",
    "\n",
    "X, Y = np.meshgrid(np.arange(my_surface.shape[1]),\n",
    "               np.arange(my_surface.shape[0]))\n",
    "Z = my_surface2\n",
    "surf2 = ax.plot_surface(X, Y, Z, rstride=1, cstride=1, antialiased=False)\n",
    "    \n",
    "plt.show()"
   ]
  },
  {
   "cell_type": "code",
   "execution_count": null,
   "metadata": {
    "collapsed": false
   },
   "outputs": [],
   "source": [
    "# extract one slice of the raw oct and convert to RGB\n",
    "my_oct = data_oct.octdata[64,:,:]\n",
    "my_oct = np.expand_dims(my_oct,2)\n",
    "my_oct = np.tile(my_oct,(1,1,3))\n",
    "\n",
    "#my_oct = np.flipud(my_oct)"
   ]
  },
  {
   "cell_type": "code",
   "execution_count": null,
   "metadata": {
    "collapsed": false
   },
   "outputs": [],
   "source": [
    "my_oct.shape"
   ]
  },
  {
   "cell_type": "code",
   "execution_count": null,
   "metadata": {
    "collapsed": false
   },
   "outputs": [],
   "source": [
    "thicknesses.shape"
   ]
  },
  {
   "cell_type": "code",
   "execution_count": null,
   "metadata": {
    "collapsed": false
   },
   "outputs": [],
   "source": [
    "vector_slice = normal_vectors[14,:]\n",
    "for iline in range(0,100,10):\n",
    "    X = iline + 150\n",
    "    Y = vector_slice[iline,2] * thicknesses[14, iline]"
   ]
  },
  {
   "cell_type": "code",
   "execution_count": null,
   "metadata": {
    "collapsed": false
   },
   "outputs": [],
   "source": [
    "vector_slice[10,2] * thicknesses[14,10]"
   ]
  },
  {
   "cell_type": "code",
   "execution_count": null,
   "metadata": {
    "collapsed": false
   },
   "outputs": [],
   "source": [
    "fig = plt.figure()\n",
    "ax = fig.gca()\n",
    "ax.imshow(my_oct)\n",
    "ax.autoscale(False)\n",
    "ax.plot(range(150,250),my_surface[14,:],'--r')\n",
    "ax.plot(range(150,250),my_surface2[14,:],'--g')"
   ]
  },
  {
   "cell_type": "code",
   "execution_count": null,
   "metadata": {
    "collapsed": false
   },
   "outputs": [],
   "source": [
    "fig = plt.figure()\n",
    "ax = fig.gca()\n",
    "ax.imshow(my_oct)\n",
    "ax.autoscale(False)\n",
    "ax.plot(range(150,250),my_surface[14,:],'--r')\n",
    "ax.plot(range(150,250),my_surface2[14,:],'--r')\n",
    "\n",
    "for iline in range(0,100,10):\n",
    "    X_start = iline + 150\n",
    "    X_end = X_start + vector_slice[iline,0] * thicknesses[14, iline]\n",
    "    Y_start = my_surface[14, iline]\n",
    "    Y_end = Y_start + vector_slice[iline,2] * thicknesses[14, iline]\n",
    "    ax.plot([X_start, X_end],[Y_start,Y_end],'b')"
   ]
  },
  {
   "cell_type": "code",
   "execution_count": null,
   "metadata": {
    "collapsed": false
   },
   "outputs": [],
   "source": [
    "iline = 20"
   ]
  },
  {
   "cell_type": "code",
   "execution_count": null,
   "metadata": {
    "collapsed": false
   },
   "outputs": [],
   "source": [
    "X_start = iline + 150\n",
    "X_end = X_start + vector_slice[iline,0] * thicknesses[14, iline]\n",
    "[X_start, X_end]"
   ]
  },
  {
   "cell_type": "code",
   "execution_count": null,
   "metadata": {
    "collapsed": false
   },
   "outputs": [],
   "source": [
    "vector_slice[iline,:]"
   ]
  },
  {
   "cell_type": "code",
   "execution_count": null,
   "metadata": {
    "collapsed": false
   },
   "outputs": [],
   "source": [
    "thicknesses[14, iline]"
   ]
  },
  {
   "cell_type": "code",
   "execution_count": null,
   "metadata": {
    "collapsed": false
   },
   "outputs": [],
   "source": [
    "X_end"
   ]
  },
  {
   "cell_type": "code",
   "execution_count": null,
   "metadata": {
    "collapsed": false
   },
   "outputs": [],
   "source": [
    "X_start"
   ]
  },
  {
   "cell_type": "code",
   "execution_count": null,
   "metadata": {
    "collapsed": false
   },
   "outputs": [],
   "source": [
    "np.all(np.isnan(thicknesses))"
   ]
  },
  {
   "cell_type": "code",
   "execution_count": null,
   "metadata": {
    "collapsed": false
   },
   "outputs": [],
   "source": [
    "thicknesses"
   ]
  },
  {
   "cell_type": "code",
   "execution_count": null,
   "metadata": {
    "collapsed": true
   },
   "outputs": [],
   "source": []
  }
 ],
 "metadata": {
  "kernelspec": {
   "display_name": "Python 2",
   "language": "python",
   "name": "python2"
  },
  "language_info": {
   "codemirror_mode": {
    "name": "ipython",
    "version": 2
   },
   "file_extension": ".py",
   "mimetype": "text/x-python",
   "name": "python",
   "nbconvert_exporter": "python",
   "pygments_lexer": "ipython2",
   "version": "2.7.9"
  }
 },
 "nbformat": 4,
 "nbformat_minor": 0
}
